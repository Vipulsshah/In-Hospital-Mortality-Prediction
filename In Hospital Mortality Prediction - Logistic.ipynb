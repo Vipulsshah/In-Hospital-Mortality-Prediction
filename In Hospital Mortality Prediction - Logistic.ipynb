{
 "cells": [
  {
   "cell_type": "markdown",
   "metadata": {},
   "source": [
    "## Importing Libraries and Data:"
   ]
  },
  {
   "cell_type": "code",
   "execution_count": 1,
   "metadata": {},
   "outputs": [],
   "source": [
    "import pandas as pd\n",
    "import numpy as np\n",
    "import matplotlib.pyplot as plt\n",
    "import seaborn as sns\n",
    "sns.set()"
   ]
  },
  {
   "cell_type": "code",
   "execution_count": 2,
   "metadata": {},
   "outputs": [],
   "source": [
    "raw_data = pd.read_csv('C:\\\\Users\\\\vipul\\\\Desktop\\\\Data Science\\\\Data Sets\\\\In Hospital Mortality Prediction\\\\data01.csv')"
   ]
  },
  {
   "cell_type": "markdown",
   "metadata": {},
   "source": [
    "## Checkpoint 1:"
   ]
  },
  {
   "cell_type": "code",
   "execution_count": 3,
   "metadata": {},
   "outputs": [],
   "source": [
    "data_all = raw_data.copy()"
   ]
  },
  {
   "cell_type": "code",
   "execution_count": 4,
   "metadata": {},
   "outputs": [
    {
     "data": {
      "text/html": [
       "<div>\n",
       "<style scoped>\n",
       "    .dataframe tbody tr th:only-of-type {\n",
       "        vertical-align: middle;\n",
       "    }\n",
       "\n",
       "    .dataframe tbody tr th {\n",
       "        vertical-align: top;\n",
       "    }\n",
       "\n",
       "    .dataframe thead th {\n",
       "        text-align: right;\n",
       "    }\n",
       "</style>\n",
       "<table border=\"1\" class=\"dataframe\">\n",
       "  <thead>\n",
       "    <tr style=\"text-align: right;\">\n",
       "      <th></th>\n",
       "      <th>group</th>\n",
       "      <th>ID</th>\n",
       "      <th>outcome</th>\n",
       "      <th>age</th>\n",
       "      <th>gendera</th>\n",
       "      <th>BMI</th>\n",
       "      <th>hypertensive</th>\n",
       "      <th>atrialfibrillation</th>\n",
       "      <th>CHD with no MI</th>\n",
       "      <th>diabetes</th>\n",
       "      <th>...</th>\n",
       "      <th>Blood sodium</th>\n",
       "      <th>Blood calcium</th>\n",
       "      <th>Chloride</th>\n",
       "      <th>Anion gap</th>\n",
       "      <th>Magnesium ion</th>\n",
       "      <th>PH</th>\n",
       "      <th>Bicarbonate</th>\n",
       "      <th>Lactic acid</th>\n",
       "      <th>PCO2</th>\n",
       "      <th>EF</th>\n",
       "    </tr>\n",
       "  </thead>\n",
       "  <tbody>\n",
       "    <tr>\n",
       "      <th>0</th>\n",
       "      <td>1</td>\n",
       "      <td>125047</td>\n",
       "      <td>0.0</td>\n",
       "      <td>72</td>\n",
       "      <td>1</td>\n",
       "      <td>37.588179</td>\n",
       "      <td>0</td>\n",
       "      <td>0</td>\n",
       "      <td>0</td>\n",
       "      <td>1</td>\n",
       "      <td>...</td>\n",
       "      <td>138.750000</td>\n",
       "      <td>7.463636</td>\n",
       "      <td>109.166667</td>\n",
       "      <td>13.166667</td>\n",
       "      <td>2.618182</td>\n",
       "      <td>7.230</td>\n",
       "      <td>21.166667</td>\n",
       "      <td>0.5</td>\n",
       "      <td>40.0</td>\n",
       "      <td>55</td>\n",
       "    </tr>\n",
       "    <tr>\n",
       "      <th>1</th>\n",
       "      <td>1</td>\n",
       "      <td>139812</td>\n",
       "      <td>0.0</td>\n",
       "      <td>75</td>\n",
       "      <td>2</td>\n",
       "      <td>NaN</td>\n",
       "      <td>0</td>\n",
       "      <td>0</td>\n",
       "      <td>0</td>\n",
       "      <td>0</td>\n",
       "      <td>...</td>\n",
       "      <td>138.888889</td>\n",
       "      <td>8.162500</td>\n",
       "      <td>98.444444</td>\n",
       "      <td>11.444444</td>\n",
       "      <td>1.887500</td>\n",
       "      <td>7.225</td>\n",
       "      <td>33.444444</td>\n",
       "      <td>0.5</td>\n",
       "      <td>78.0</td>\n",
       "      <td>55</td>\n",
       "    </tr>\n",
       "    <tr>\n",
       "      <th>2</th>\n",
       "      <td>1</td>\n",
       "      <td>109787</td>\n",
       "      <td>0.0</td>\n",
       "      <td>83</td>\n",
       "      <td>2</td>\n",
       "      <td>26.572634</td>\n",
       "      <td>0</td>\n",
       "      <td>0</td>\n",
       "      <td>0</td>\n",
       "      <td>0</td>\n",
       "      <td>...</td>\n",
       "      <td>140.714286</td>\n",
       "      <td>8.266667</td>\n",
       "      <td>105.857143</td>\n",
       "      <td>10.000000</td>\n",
       "      <td>2.157143</td>\n",
       "      <td>7.268</td>\n",
       "      <td>30.571429</td>\n",
       "      <td>0.5</td>\n",
       "      <td>71.5</td>\n",
       "      <td>35</td>\n",
       "    </tr>\n",
       "    <tr>\n",
       "      <th>3</th>\n",
       "      <td>1</td>\n",
       "      <td>130587</td>\n",
       "      <td>0.0</td>\n",
       "      <td>43</td>\n",
       "      <td>2</td>\n",
       "      <td>83.264629</td>\n",
       "      <td>0</td>\n",
       "      <td>0</td>\n",
       "      <td>0</td>\n",
       "      <td>0</td>\n",
       "      <td>...</td>\n",
       "      <td>138.500000</td>\n",
       "      <td>9.476923</td>\n",
       "      <td>92.071429</td>\n",
       "      <td>12.357143</td>\n",
       "      <td>1.942857</td>\n",
       "      <td>7.370</td>\n",
       "      <td>38.571429</td>\n",
       "      <td>0.6</td>\n",
       "      <td>75.0</td>\n",
       "      <td>55</td>\n",
       "    </tr>\n",
       "    <tr>\n",
       "      <th>4</th>\n",
       "      <td>1</td>\n",
       "      <td>138290</td>\n",
       "      <td>0.0</td>\n",
       "      <td>75</td>\n",
       "      <td>2</td>\n",
       "      <td>31.824842</td>\n",
       "      <td>1</td>\n",
       "      <td>0</td>\n",
       "      <td>0</td>\n",
       "      <td>0</td>\n",
       "      <td>...</td>\n",
       "      <td>136.666667</td>\n",
       "      <td>8.733333</td>\n",
       "      <td>104.500000</td>\n",
       "      <td>15.166667</td>\n",
       "      <td>1.650000</td>\n",
       "      <td>7.250</td>\n",
       "      <td>22.000000</td>\n",
       "      <td>0.6</td>\n",
       "      <td>50.0</td>\n",
       "      <td>55</td>\n",
       "    </tr>\n",
       "  </tbody>\n",
       "</table>\n",
       "<p>5 rows × 51 columns</p>\n",
       "</div>"
      ],
      "text/plain": [
       "   group      ID  outcome  age  gendera        BMI  hypertensive  \\\n",
       "0      1  125047      0.0   72        1  37.588179             0   \n",
       "1      1  139812      0.0   75        2        NaN             0   \n",
       "2      1  109787      0.0   83        2  26.572634             0   \n",
       "3      1  130587      0.0   43        2  83.264629             0   \n",
       "4      1  138290      0.0   75        2  31.824842             1   \n",
       "\n",
       "   atrialfibrillation  CHD with no MI  diabetes  ...  Blood sodium  \\\n",
       "0                   0               0         1  ...    138.750000   \n",
       "1                   0               0         0  ...    138.888889   \n",
       "2                   0               0         0  ...    140.714286   \n",
       "3                   0               0         0  ...    138.500000   \n",
       "4                   0               0         0  ...    136.666667   \n",
       "\n",
       "   Blood calcium    Chloride  Anion gap  Magnesium ion     PH  Bicarbonate  \\\n",
       "0       7.463636  109.166667  13.166667       2.618182  7.230    21.166667   \n",
       "1       8.162500   98.444444  11.444444       1.887500  7.225    33.444444   \n",
       "2       8.266667  105.857143  10.000000       2.157143  7.268    30.571429   \n",
       "3       9.476923   92.071429  12.357143       1.942857  7.370    38.571429   \n",
       "4       8.733333  104.500000  15.166667       1.650000  7.250    22.000000   \n",
       "\n",
       "   Lactic acid  PCO2  EF  \n",
       "0          0.5  40.0  55  \n",
       "1          0.5  78.0  55  \n",
       "2          0.5  71.5  35  \n",
       "3          0.6  75.0  55  \n",
       "4          0.6  50.0  55  \n",
       "\n",
       "[5 rows x 51 columns]"
      ]
     },
     "execution_count": 4,
     "metadata": {},
     "output_type": "execute_result"
    }
   ],
   "source": [
    "data_all.head()"
   ]
  },
  {
   "cell_type": "code",
   "execution_count": 5,
   "metadata": {},
   "outputs": [
    {
     "data": {
      "text/plain": [
       "(1177, 51)"
      ]
     },
     "execution_count": 5,
     "metadata": {},
     "output_type": "execute_result"
    }
   ],
   "source": [
    "data_all.shape"
   ]
  },
  {
   "cell_type": "code",
   "execution_count": 6,
   "metadata": {},
   "outputs": [
    {
     "data": {
      "text/plain": [
       "Index(['group', 'ID', 'outcome', 'age', 'gendera', 'BMI', 'hypertensive',\n",
       "       'atrialfibrillation', 'CHD with no MI', 'diabetes', 'deficiencyanemias',\n",
       "       'depression', 'Hyperlipemia', 'Renal failure', 'COPD', 'heart rate',\n",
       "       'Systolic blood pressure', 'Diastolic blood pressure',\n",
       "       'Respiratory rate', 'temperature', 'SP O2', 'Urine output',\n",
       "       'hematocrit', 'RBC', 'MCH', 'MCHC', 'MCV', 'RDW', 'Leucocyte',\n",
       "       'Platelets', 'Neutrophils', 'Basophils', 'Lymphocyte', 'PT', 'INR',\n",
       "       'NT-proBNP', 'Creatine kinase', 'Creatinine', 'Urea nitrogen',\n",
       "       'glucose', 'Blood potassium', 'Blood sodium', 'Blood calcium',\n",
       "       'Chloride', 'Anion gap', 'Magnesium ion', 'PH', 'Bicarbonate',\n",
       "       'Lactic acid', 'PCO2', 'EF'],\n",
       "      dtype='object')"
      ]
     },
     "execution_count": 6,
     "metadata": {},
     "output_type": "execute_result"
    }
   ],
   "source": [
    "data_all.columns"
   ]
  },
  {
   "cell_type": "code",
   "execution_count": 7,
   "metadata": {
    "scrolled": true
   },
   "outputs": [
    {
     "name": "stdout",
     "output_type": "stream",
     "text": [
      "<class 'pandas.core.frame.DataFrame'>\n",
      "RangeIndex: 1177 entries, 0 to 1176\n",
      "Data columns (total 51 columns):\n",
      " #   Column                    Non-Null Count  Dtype  \n",
      "---  ------                    --------------  -----  \n",
      " 0   group                     1177 non-null   int64  \n",
      " 1   ID                        1177 non-null   int64  \n",
      " 2   outcome                   1176 non-null   float64\n",
      " 3   age                       1177 non-null   int64  \n",
      " 4   gendera                   1177 non-null   int64  \n",
      " 5   BMI                       962 non-null    float64\n",
      " 6   hypertensive              1177 non-null   int64  \n",
      " 7   atrialfibrillation        1177 non-null   int64  \n",
      " 8   CHD with no MI            1177 non-null   int64  \n",
      " 9   diabetes                  1177 non-null   int64  \n",
      " 10  deficiencyanemias         1177 non-null   int64  \n",
      " 11  depression                1177 non-null   int64  \n",
      " 12  Hyperlipemia              1177 non-null   int64  \n",
      " 13  Renal failure             1177 non-null   int64  \n",
      " 14  COPD                      1177 non-null   int64  \n",
      " 15  heart rate                1164 non-null   float64\n",
      " 16  Systolic blood pressure   1161 non-null   float64\n",
      " 17  Diastolic blood pressure  1161 non-null   float64\n",
      " 18  Respiratory rate          1164 non-null   float64\n",
      " 19  temperature               1158 non-null   float64\n",
      " 20  SP O2                     1164 non-null   float64\n",
      " 21  Urine output              1141 non-null   float64\n",
      " 22  hematocrit                1177 non-null   float64\n",
      " 23  RBC                       1177 non-null   float64\n",
      " 24  MCH                       1177 non-null   float64\n",
      " 25  MCHC                      1177 non-null   float64\n",
      " 26  MCV                       1177 non-null   float64\n",
      " 27  RDW                       1177 non-null   float64\n",
      " 28  Leucocyte                 1177 non-null   float64\n",
      " 29  Platelets                 1177 non-null   float64\n",
      " 30  Neutrophils               1033 non-null   float64\n",
      " 31  Basophils                 918 non-null    float64\n",
      " 32  Lymphocyte                1032 non-null   float64\n",
      " 33  PT                        1157 non-null   float64\n",
      " 34  INR                       1157 non-null   float64\n",
      " 35  NT-proBNP                 1177 non-null   float64\n",
      " 36  Creatine kinase           1012 non-null   float64\n",
      " 37  Creatinine                1177 non-null   float64\n",
      " 38  Urea nitrogen             1177 non-null   float64\n",
      " 39  glucose                   1159 non-null   float64\n",
      " 40  Blood potassium           1177 non-null   float64\n",
      " 41  Blood sodium              1177 non-null   float64\n",
      " 42  Blood calcium             1176 non-null   float64\n",
      " 43  Chloride                  1177 non-null   float64\n",
      " 44  Anion gap                 1177 non-null   float64\n",
      " 45  Magnesium ion             1177 non-null   float64\n",
      " 46  PH                        885 non-null    float64\n",
      " 47  Bicarbonate               1177 non-null   float64\n",
      " 48  Lactic acid               948 non-null    float64\n",
      " 49  PCO2                      883 non-null    float64\n",
      " 50  EF                        1177 non-null   int64  \n",
      "dtypes: float64(37), int64(14)\n",
      "memory usage: 469.1 KB\n"
     ]
    }
   ],
   "source": [
    "data_all.info()"
   ]
  },
  {
   "cell_type": "code",
   "execution_count": 8,
   "metadata": {
    "scrolled": true
   },
   "outputs": [
    {
     "data": {
      "text/plain": [
       "group                         0\n",
       "ID                            0\n",
       "outcome                       1\n",
       "age                           0\n",
       "gendera                       0\n",
       "BMI                         215\n",
       "hypertensive                  0\n",
       "atrialfibrillation            0\n",
       "CHD with no MI                0\n",
       "diabetes                      0\n",
       "deficiencyanemias             0\n",
       "depression                    0\n",
       "Hyperlipemia                  0\n",
       "Renal failure                 0\n",
       "COPD                          0\n",
       "heart rate                   13\n",
       "Systolic blood pressure      16\n",
       "Diastolic blood pressure     16\n",
       "Respiratory rate             13\n",
       "temperature                  19\n",
       "SP O2                        13\n",
       "Urine output                 36\n",
       "hematocrit                    0\n",
       "RBC                           0\n",
       "MCH                           0\n",
       "MCHC                          0\n",
       "MCV                           0\n",
       "RDW                           0\n",
       "Leucocyte                     0\n",
       "Platelets                     0\n",
       "Neutrophils                 144\n",
       "Basophils                   259\n",
       "Lymphocyte                  145\n",
       "PT                           20\n",
       "INR                          20\n",
       "NT-proBNP                     0\n",
       "Creatine kinase             165\n",
       "Creatinine                    0\n",
       "Urea nitrogen                 0\n",
       "glucose                      18\n",
       "Blood potassium               0\n",
       "Blood sodium                  0\n",
       "Blood calcium                 1\n",
       "Chloride                      0\n",
       "Anion gap                     0\n",
       "Magnesium ion                 0\n",
       "PH                          292\n",
       "Bicarbonate                   0\n",
       "Lactic acid                 229\n",
       "PCO2                        294\n",
       "EF                            0\n",
       "dtype: int64"
      ]
     },
     "execution_count": 8,
     "metadata": {},
     "output_type": "execute_result"
    }
   ],
   "source": [
    "data_all.isnull().sum()"
   ]
  },
  {
   "cell_type": "markdown",
   "metadata": {},
   "source": [
    "## Missing Value Removal:"
   ]
  },
  {
   "cell_type": "code",
   "execution_count": 9,
   "metadata": {},
   "outputs": [],
   "source": [
    "bmi_mean = data_all.BMI.mean()"
   ]
  },
  {
   "cell_type": "code",
   "execution_count": 10,
   "metadata": {},
   "outputs": [
    {
     "data": {
      "text/plain": [
       "30.18827765159043"
      ]
     },
     "execution_count": 10,
     "metadata": {},
     "output_type": "execute_result"
    }
   ],
   "source": [
    "bmi_mean"
   ]
  },
  {
   "cell_type": "code",
   "execution_count": 11,
   "metadata": {},
   "outputs": [],
   "source": [
    "data_1 = data_all.copy()\n",
    "data_1['BMI'] = data_1['BMI'].fillna(data_1['BMI'].mean())"
   ]
  },
  {
   "cell_type": "code",
   "execution_count": 12,
   "metadata": {},
   "outputs": [],
   "source": [
    "data_2 = data_1.copy()\n",
    "data_2['Urine output'] = data_2['Urine output'].fillna(data_2['Urine output'].mean())"
   ]
  },
  {
   "cell_type": "code",
   "execution_count": 13,
   "metadata": {},
   "outputs": [],
   "source": [
    "data_3 = data_2.copy()\n",
    "data_3['Neutrophils'] = data_3['Neutrophils'].fillna(data_3['Neutrophils'].mean())"
   ]
  },
  {
   "cell_type": "code",
   "execution_count": 14,
   "metadata": {},
   "outputs": [],
   "source": [
    "data_4 = data_3.copy()\n",
    "data_4['Basophils'] = data_4['Basophils'].fillna(data_4['Basophils'].mean())"
   ]
  },
  {
   "cell_type": "code",
   "execution_count": 15,
   "metadata": {},
   "outputs": [],
   "source": [
    "data_5 = data_4.copy()\n",
    "data_5['Lymphocyte'] = data_5['Lymphocyte'].fillna(data_5['Lymphocyte'].mean())"
   ]
  },
  {
   "cell_type": "code",
   "execution_count": 16,
   "metadata": {},
   "outputs": [],
   "source": [
    "data_6 = data_5.copy()\n",
    "data_6['Creatine kinase'] = data_6['Creatine kinase'].fillna(data_6['Creatine kinase'].mean())"
   ]
  },
  {
   "cell_type": "code",
   "execution_count": 17,
   "metadata": {},
   "outputs": [],
   "source": [
    "data_7 = data_6.copy()\n",
    "data_7['PH'] = data_7['PH'].fillna(data_7['PH'].mean())"
   ]
  },
  {
   "cell_type": "code",
   "execution_count": 18,
   "metadata": {},
   "outputs": [],
   "source": [
    "data_8 = data_7.copy()\n",
    "data_8['Lactic acid'] = data_8['Lactic acid'].fillna(data_8['Lactic acid'].mean())"
   ]
  },
  {
   "cell_type": "code",
   "execution_count": 19,
   "metadata": {},
   "outputs": [],
   "source": [
    "data_9 = data_8.copy()\n",
    "data_9['PCO2'] = data_9['PCO2'].fillna(data_9['PCO2'].mean())"
   ]
  },
  {
   "cell_type": "code",
   "execution_count": 20,
   "metadata": {},
   "outputs": [
    {
     "data": {
      "text/plain": [
       "group                       0\n",
       "ID                          0\n",
       "outcome                     0\n",
       "age                         0\n",
       "gendera                     0\n",
       "BMI                         0\n",
       "hypertensive                0\n",
       "atrialfibrillation          0\n",
       "CHD with no MI              0\n",
       "diabetes                    0\n",
       "deficiencyanemias           0\n",
       "depression                  0\n",
       "Hyperlipemia                0\n",
       "Renal failure               0\n",
       "COPD                        0\n",
       "heart rate                  0\n",
       "Systolic blood pressure     0\n",
       "Diastolic blood pressure    0\n",
       "Respiratory rate            0\n",
       "temperature                 0\n",
       "SP O2                       0\n",
       "Urine output                0\n",
       "hematocrit                  0\n",
       "RBC                         0\n",
       "MCH                         0\n",
       "MCHC                        0\n",
       "MCV                         0\n",
       "RDW                         0\n",
       "Leucocyte                   0\n",
       "Platelets                   0\n",
       "Neutrophils                 0\n",
       "Basophils                   0\n",
       "Lymphocyte                  0\n",
       "PT                          0\n",
       "INR                         0\n",
       "NT-proBNP                   0\n",
       "Creatine kinase             0\n",
       "Creatinine                  0\n",
       "Urea nitrogen               0\n",
       "glucose                     0\n",
       "Blood potassium             0\n",
       "Blood sodium                0\n",
       "Blood calcium               0\n",
       "Chloride                    0\n",
       "Anion gap                   0\n",
       "Magnesium ion               0\n",
       "PH                          0\n",
       "Bicarbonate                 0\n",
       "Lactic acid                 0\n",
       "PCO2                        0\n",
       "EF                          0\n",
       "dtype: int64"
      ]
     },
     "execution_count": 20,
     "metadata": {},
     "output_type": "execute_result"
    }
   ],
   "source": [
    "data_10 = data_9.dropna(axis=0)\n",
    "data_10.isnull().sum()"
   ]
  },
  {
   "cell_type": "code",
   "execution_count": 21,
   "metadata": {},
   "outputs": [
    {
     "data": {
      "text/plain": [
       "(1177, 51)"
      ]
     },
     "execution_count": 21,
     "metadata": {},
     "output_type": "execute_result"
    }
   ],
   "source": [
    "data_all.shape"
   ]
  },
  {
   "cell_type": "code",
   "execution_count": 22,
   "metadata": {},
   "outputs": [
    {
     "data": {
      "text/plain": [
       "(1127, 51)"
      ]
     },
     "execution_count": 22,
     "metadata": {},
     "output_type": "execute_result"
    }
   ],
   "source": [
    "data_10.shape"
   ]
  },
  {
   "cell_type": "markdown",
   "metadata": {},
   "source": [
    "## Checkpoint 2: Data with no Missing Values:"
   ]
  },
  {
   "cell_type": "code",
   "execution_count": 23,
   "metadata": {},
   "outputs": [],
   "source": [
    "data_with_no_missing = data_10.copy()"
   ]
  },
  {
   "cell_type": "code",
   "execution_count": 24,
   "metadata": {},
   "outputs": [
    {
     "data": {
      "text/html": [
       "<div>\n",
       "<style scoped>\n",
       "    .dataframe tbody tr th:only-of-type {\n",
       "        vertical-align: middle;\n",
       "    }\n",
       "\n",
       "    .dataframe tbody tr th {\n",
       "        vertical-align: top;\n",
       "    }\n",
       "\n",
       "    .dataframe thead th {\n",
       "        text-align: right;\n",
       "    }\n",
       "</style>\n",
       "<table border=\"1\" class=\"dataframe\">\n",
       "  <thead>\n",
       "    <tr style=\"text-align: right;\">\n",
       "      <th></th>\n",
       "      <th>group</th>\n",
       "      <th>ID</th>\n",
       "      <th>outcome</th>\n",
       "      <th>age</th>\n",
       "      <th>gendera</th>\n",
       "      <th>BMI</th>\n",
       "      <th>hypertensive</th>\n",
       "      <th>atrialfibrillation</th>\n",
       "      <th>CHD with no MI</th>\n",
       "      <th>diabetes</th>\n",
       "      <th>...</th>\n",
       "      <th>Blood sodium</th>\n",
       "      <th>Blood calcium</th>\n",
       "      <th>Chloride</th>\n",
       "      <th>Anion gap</th>\n",
       "      <th>Magnesium ion</th>\n",
       "      <th>PH</th>\n",
       "      <th>Bicarbonate</th>\n",
       "      <th>Lactic acid</th>\n",
       "      <th>PCO2</th>\n",
       "      <th>EF</th>\n",
       "    </tr>\n",
       "  </thead>\n",
       "  <tbody>\n",
       "    <tr>\n",
       "      <th>count</th>\n",
       "      <td>1127.000000</td>\n",
       "      <td>1127.000000</td>\n",
       "      <td>1127.000000</td>\n",
       "      <td>1127.000000</td>\n",
       "      <td>1127.000000</td>\n",
       "      <td>1127.000000</td>\n",
       "      <td>1127.000000</td>\n",
       "      <td>1127.000000</td>\n",
       "      <td>1127.000000</td>\n",
       "      <td>1127.000000</td>\n",
       "      <td>...</td>\n",
       "      <td>1127.000000</td>\n",
       "      <td>1127.000000</td>\n",
       "      <td>1127.000000</td>\n",
       "      <td>1127.000000</td>\n",
       "      <td>1127.000000</td>\n",
       "      <td>1127.000000</td>\n",
       "      <td>1127.000000</td>\n",
       "      <td>1127.000000</td>\n",
       "      <td>1127.000000</td>\n",
       "      <td>1127.000000</td>\n",
       "    </tr>\n",
       "    <tr>\n",
       "      <th>mean</th>\n",
       "      <td>1.299024</td>\n",
       "      <td>150790.869565</td>\n",
       "      <td>0.138421</td>\n",
       "      <td>73.990240</td>\n",
       "      <td>1.525288</td>\n",
       "      <td>30.263229</td>\n",
       "      <td>0.716948</td>\n",
       "      <td>0.455191</td>\n",
       "      <td>0.081633</td>\n",
       "      <td>0.425022</td>\n",
       "      <td>...</td>\n",
       "      <td>138.941932</td>\n",
       "      <td>8.501636</td>\n",
       "      <td>102.305968</td>\n",
       "      <td>13.936520</td>\n",
       "      <td>2.122485</td>\n",
       "      <td>7.378620</td>\n",
       "      <td>26.926033</td>\n",
       "      <td>1.856827</td>\n",
       "      <td>45.503245</td>\n",
       "      <td>48.711624</td>\n",
       "    </tr>\n",
       "    <tr>\n",
       "      <th>std</th>\n",
       "      <td>0.458034</td>\n",
       "      <td>29125.429538</td>\n",
       "      <td>0.345494</td>\n",
       "      <td>13.422129</td>\n",
       "      <td>0.499582</td>\n",
       "      <td>8.534342</td>\n",
       "      <td>0.450682</td>\n",
       "      <td>0.498209</td>\n",
       "      <td>0.273926</td>\n",
       "      <td>0.494566</td>\n",
       "      <td>...</td>\n",
       "      <td>4.136770</td>\n",
       "      <td>0.570595</td>\n",
       "      <td>5.320198</td>\n",
       "      <td>2.670884</td>\n",
       "      <td>0.252190</td>\n",
       "      <td>0.058692</td>\n",
       "      <td>5.215141</td>\n",
       "      <td>0.892948</td>\n",
       "      <td>11.080803</td>\n",
       "      <td>12.940748</td>\n",
       "    </tr>\n",
       "    <tr>\n",
       "      <th>min</th>\n",
       "      <td>1.000000</td>\n",
       "      <td>100213.000000</td>\n",
       "      <td>0.000000</td>\n",
       "      <td>19.000000</td>\n",
       "      <td>1.000000</td>\n",
       "      <td>13.346801</td>\n",
       "      <td>0.000000</td>\n",
       "      <td>0.000000</td>\n",
       "      <td>0.000000</td>\n",
       "      <td>0.000000</td>\n",
       "      <td>...</td>\n",
       "      <td>114.666667</td>\n",
       "      <td>6.700000</td>\n",
       "      <td>80.266667</td>\n",
       "      <td>6.636364</td>\n",
       "      <td>1.400000</td>\n",
       "      <td>7.090000</td>\n",
       "      <td>12.857143</td>\n",
       "      <td>0.500000</td>\n",
       "      <td>18.750000</td>\n",
       "      <td>15.000000</td>\n",
       "    </tr>\n",
       "    <tr>\n",
       "      <th>25%</th>\n",
       "      <td>1.000000</td>\n",
       "      <td>125458.000000</td>\n",
       "      <td>0.000000</td>\n",
       "      <td>65.000000</td>\n",
       "      <td>1.000000</td>\n",
       "      <td>25.286590</td>\n",
       "      <td>0.000000</td>\n",
       "      <td>0.000000</td>\n",
       "      <td>0.000000</td>\n",
       "      <td>0.000000</td>\n",
       "      <td>...</td>\n",
       "      <td>136.714286</td>\n",
       "      <td>8.150000</td>\n",
       "      <td>99.000000</td>\n",
       "      <td>12.240385</td>\n",
       "      <td>1.955556</td>\n",
       "      <td>7.349365</td>\n",
       "      <td>23.444444</td>\n",
       "      <td>1.300000</td>\n",
       "      <td>39.000000</td>\n",
       "      <td>40.000000</td>\n",
       "    </tr>\n",
       "    <tr>\n",
       "      <th>50%</th>\n",
       "      <td>1.000000</td>\n",
       "      <td>151973.000000</td>\n",
       "      <td>0.000000</td>\n",
       "      <td>77.000000</td>\n",
       "      <td>2.000000</td>\n",
       "      <td>30.188278</td>\n",
       "      <td>1.000000</td>\n",
       "      <td>0.000000</td>\n",
       "      <td>0.000000</td>\n",
       "      <td>0.000000</td>\n",
       "      <td>...</td>\n",
       "      <td>139.285714</td>\n",
       "      <td>8.500000</td>\n",
       "      <td>102.533333</td>\n",
       "      <td>13.714286</td>\n",
       "      <td>2.100000</td>\n",
       "      <td>7.378532</td>\n",
       "      <td>26.444444</td>\n",
       "      <td>1.800000</td>\n",
       "      <td>45.535382</td>\n",
       "      <td>55.000000</td>\n",
       "    </tr>\n",
       "    <tr>\n",
       "      <th>75%</th>\n",
       "      <td>2.000000</td>\n",
       "      <td>176195.000000</td>\n",
       "      <td>0.000000</td>\n",
       "      <td>85.000000</td>\n",
       "      <td>2.000000</td>\n",
       "      <td>32.224592</td>\n",
       "      <td>1.000000</td>\n",
       "      <td>1.000000</td>\n",
       "      <td>0.000000</td>\n",
       "      <td>1.000000</td>\n",
       "      <td>...</td>\n",
       "      <td>141.620192</td>\n",
       "      <td>8.869375</td>\n",
       "      <td>105.563492</td>\n",
       "      <td>15.422619</td>\n",
       "      <td>2.244949</td>\n",
       "      <td>7.410000</td>\n",
       "      <td>30.000000</td>\n",
       "      <td>2.025000</td>\n",
       "      <td>47.361111</td>\n",
       "      <td>55.000000</td>\n",
       "    </tr>\n",
       "    <tr>\n",
       "      <th>max</th>\n",
       "      <td>2.000000</td>\n",
       "      <td>199952.000000</td>\n",
       "      <td>1.000000</td>\n",
       "      <td>99.000000</td>\n",
       "      <td>2.000000</td>\n",
       "      <td>104.970366</td>\n",
       "      <td>1.000000</td>\n",
       "      <td>1.000000</td>\n",
       "      <td>1.000000</td>\n",
       "      <td>1.000000</td>\n",
       "      <td>...</td>\n",
       "      <td>154.736842</td>\n",
       "      <td>10.950000</td>\n",
       "      <td>122.526316</td>\n",
       "      <td>25.500000</td>\n",
       "      <td>4.072727</td>\n",
       "      <td>7.580000</td>\n",
       "      <td>47.666667</td>\n",
       "      <td>8.333333</td>\n",
       "      <td>98.600000</td>\n",
       "      <td>75.000000</td>\n",
       "    </tr>\n",
       "  </tbody>\n",
       "</table>\n",
       "<p>8 rows × 51 columns</p>\n",
       "</div>"
      ],
      "text/plain": [
       "             group             ID      outcome          age      gendera  \\\n",
       "count  1127.000000    1127.000000  1127.000000  1127.000000  1127.000000   \n",
       "mean      1.299024  150790.869565     0.138421    73.990240     1.525288   \n",
       "std       0.458034   29125.429538     0.345494    13.422129     0.499582   \n",
       "min       1.000000  100213.000000     0.000000    19.000000     1.000000   \n",
       "25%       1.000000  125458.000000     0.000000    65.000000     1.000000   \n",
       "50%       1.000000  151973.000000     0.000000    77.000000     2.000000   \n",
       "75%       2.000000  176195.000000     0.000000    85.000000     2.000000   \n",
       "max       2.000000  199952.000000     1.000000    99.000000     2.000000   \n",
       "\n",
       "               BMI  hypertensive  atrialfibrillation  CHD with no MI  \\\n",
       "count  1127.000000   1127.000000         1127.000000     1127.000000   \n",
       "mean     30.263229      0.716948            0.455191        0.081633   \n",
       "std       8.534342      0.450682            0.498209        0.273926   \n",
       "min      13.346801      0.000000            0.000000        0.000000   \n",
       "25%      25.286590      0.000000            0.000000        0.000000   \n",
       "50%      30.188278      1.000000            0.000000        0.000000   \n",
       "75%      32.224592      1.000000            1.000000        0.000000   \n",
       "max     104.970366      1.000000            1.000000        1.000000   \n",
       "\n",
       "          diabetes  ...  Blood sodium  Blood calcium     Chloride  \\\n",
       "count  1127.000000  ...   1127.000000    1127.000000  1127.000000   \n",
       "mean      0.425022  ...    138.941932       8.501636   102.305968   \n",
       "std       0.494566  ...      4.136770       0.570595     5.320198   \n",
       "min       0.000000  ...    114.666667       6.700000    80.266667   \n",
       "25%       0.000000  ...    136.714286       8.150000    99.000000   \n",
       "50%       0.000000  ...    139.285714       8.500000   102.533333   \n",
       "75%       1.000000  ...    141.620192       8.869375   105.563492   \n",
       "max       1.000000  ...    154.736842      10.950000   122.526316   \n",
       "\n",
       "         Anion gap  Magnesium ion           PH  Bicarbonate  Lactic acid  \\\n",
       "count  1127.000000    1127.000000  1127.000000  1127.000000  1127.000000   \n",
       "mean     13.936520       2.122485     7.378620    26.926033     1.856827   \n",
       "std       2.670884       0.252190     0.058692     5.215141     0.892948   \n",
       "min       6.636364       1.400000     7.090000    12.857143     0.500000   \n",
       "25%      12.240385       1.955556     7.349365    23.444444     1.300000   \n",
       "50%      13.714286       2.100000     7.378532    26.444444     1.800000   \n",
       "75%      15.422619       2.244949     7.410000    30.000000     2.025000   \n",
       "max      25.500000       4.072727     7.580000    47.666667     8.333333   \n",
       "\n",
       "              PCO2           EF  \n",
       "count  1127.000000  1127.000000  \n",
       "mean     45.503245    48.711624  \n",
       "std      11.080803    12.940748  \n",
       "min      18.750000    15.000000  \n",
       "25%      39.000000    40.000000  \n",
       "50%      45.535382    55.000000  \n",
       "75%      47.361111    55.000000  \n",
       "max      98.600000    75.000000  \n",
       "\n",
       "[8 rows x 51 columns]"
      ]
     },
     "execution_count": 24,
     "metadata": {},
     "output_type": "execute_result"
    }
   ],
   "source": [
    "data_with_no_missing.describe(include='all')"
   ]
  },
  {
   "cell_type": "code",
   "execution_count": 25,
   "metadata": {},
   "outputs": [
    {
     "data": {
      "text/html": [
       "<div>\n",
       "<style scoped>\n",
       "    .dataframe tbody tr th:only-of-type {\n",
       "        vertical-align: middle;\n",
       "    }\n",
       "\n",
       "    .dataframe tbody tr th {\n",
       "        vertical-align: top;\n",
       "    }\n",
       "\n",
       "    .dataframe thead th {\n",
       "        text-align: right;\n",
       "    }\n",
       "</style>\n",
       "<table border=\"1\" class=\"dataframe\">\n",
       "  <thead>\n",
       "    <tr style=\"text-align: right;\">\n",
       "      <th></th>\n",
       "      <th>group</th>\n",
       "      <th>ID</th>\n",
       "      <th>outcome</th>\n",
       "      <th>age</th>\n",
       "      <th>gendera</th>\n",
       "      <th>BMI</th>\n",
       "      <th>hypertensive</th>\n",
       "      <th>atrialfibrillation</th>\n",
       "      <th>CHD with no MI</th>\n",
       "      <th>diabetes</th>\n",
       "      <th>...</th>\n",
       "      <th>Blood sodium</th>\n",
       "      <th>Blood calcium</th>\n",
       "      <th>Chloride</th>\n",
       "      <th>Anion gap</th>\n",
       "      <th>Magnesium ion</th>\n",
       "      <th>PH</th>\n",
       "      <th>Bicarbonate</th>\n",
       "      <th>Lactic acid</th>\n",
       "      <th>PCO2</th>\n",
       "      <th>EF</th>\n",
       "    </tr>\n",
       "  </thead>\n",
       "  <tbody>\n",
       "    <tr>\n",
       "      <th>0</th>\n",
       "      <td>1</td>\n",
       "      <td>125047</td>\n",
       "      <td>0.0</td>\n",
       "      <td>72</td>\n",
       "      <td>1</td>\n",
       "      <td>37.588179</td>\n",
       "      <td>0</td>\n",
       "      <td>0</td>\n",
       "      <td>0</td>\n",
       "      <td>1</td>\n",
       "      <td>...</td>\n",
       "      <td>138.750000</td>\n",
       "      <td>7.463636</td>\n",
       "      <td>109.166667</td>\n",
       "      <td>13.166667</td>\n",
       "      <td>2.618182</td>\n",
       "      <td>7.230000</td>\n",
       "      <td>21.166667</td>\n",
       "      <td>0.500</td>\n",
       "      <td>40.000000</td>\n",
       "      <td>55</td>\n",
       "    </tr>\n",
       "    <tr>\n",
       "      <th>2</th>\n",
       "      <td>1</td>\n",
       "      <td>109787</td>\n",
       "      <td>0.0</td>\n",
       "      <td>83</td>\n",
       "      <td>2</td>\n",
       "      <td>26.572634</td>\n",
       "      <td>0</td>\n",
       "      <td>0</td>\n",
       "      <td>0</td>\n",
       "      <td>0</td>\n",
       "      <td>...</td>\n",
       "      <td>140.714286</td>\n",
       "      <td>8.266667</td>\n",
       "      <td>105.857143</td>\n",
       "      <td>10.000000</td>\n",
       "      <td>2.157143</td>\n",
       "      <td>7.268000</td>\n",
       "      <td>30.571429</td>\n",
       "      <td>0.500</td>\n",
       "      <td>71.500000</td>\n",
       "      <td>35</td>\n",
       "    </tr>\n",
       "    <tr>\n",
       "      <th>3</th>\n",
       "      <td>1</td>\n",
       "      <td>130587</td>\n",
       "      <td>0.0</td>\n",
       "      <td>43</td>\n",
       "      <td>2</td>\n",
       "      <td>83.264629</td>\n",
       "      <td>0</td>\n",
       "      <td>0</td>\n",
       "      <td>0</td>\n",
       "      <td>0</td>\n",
       "      <td>...</td>\n",
       "      <td>138.500000</td>\n",
       "      <td>9.476923</td>\n",
       "      <td>92.071429</td>\n",
       "      <td>12.357143</td>\n",
       "      <td>1.942857</td>\n",
       "      <td>7.370000</td>\n",
       "      <td>38.571429</td>\n",
       "      <td>0.600</td>\n",
       "      <td>75.000000</td>\n",
       "      <td>55</td>\n",
       "    </tr>\n",
       "    <tr>\n",
       "      <th>5</th>\n",
       "      <td>1</td>\n",
       "      <td>154653</td>\n",
       "      <td>0.0</td>\n",
       "      <td>76</td>\n",
       "      <td>1</td>\n",
       "      <td>24.262293</td>\n",
       "      <td>1</td>\n",
       "      <td>1</td>\n",
       "      <td>0</td>\n",
       "      <td>0</td>\n",
       "      <td>...</td>\n",
       "      <td>136.250000</td>\n",
       "      <td>8.466667</td>\n",
       "      <td>96.750000</td>\n",
       "      <td>13.125000</td>\n",
       "      <td>1.771429</td>\n",
       "      <td>7.310000</td>\n",
       "      <td>30.500000</td>\n",
       "      <td>0.600</td>\n",
       "      <td>65.500000</td>\n",
       "      <td>35</td>\n",
       "    </tr>\n",
       "    <tr>\n",
       "      <th>6</th>\n",
       "      <td>1</td>\n",
       "      <td>194420</td>\n",
       "      <td>0.0</td>\n",
       "      <td>72</td>\n",
       "      <td>1</td>\n",
       "      <td>39.667426</td>\n",
       "      <td>1</td>\n",
       "      <td>0</td>\n",
       "      <td>0</td>\n",
       "      <td>0</td>\n",
       "      <td>...</td>\n",
       "      <td>144.133333</td>\n",
       "      <td>8.775000</td>\n",
       "      <td>106.666667</td>\n",
       "      <td>15.200000</td>\n",
       "      <td>1.875000</td>\n",
       "      <td>7.169231</td>\n",
       "      <td>26.800000</td>\n",
       "      <td>0.625</td>\n",
       "      <td>69.769231</td>\n",
       "      <td>55</td>\n",
       "    </tr>\n",
       "  </tbody>\n",
       "</table>\n",
       "<p>5 rows × 51 columns</p>\n",
       "</div>"
      ],
      "text/plain": [
       "   group      ID  outcome  age  gendera        BMI  hypertensive  \\\n",
       "0      1  125047      0.0   72        1  37.588179             0   \n",
       "2      1  109787      0.0   83        2  26.572634             0   \n",
       "3      1  130587      0.0   43        2  83.264629             0   \n",
       "5      1  154653      0.0   76        1  24.262293             1   \n",
       "6      1  194420      0.0   72        1  39.667426             1   \n",
       "\n",
       "   atrialfibrillation  CHD with no MI  diabetes  ...  Blood sodium  \\\n",
       "0                   0               0         1  ...    138.750000   \n",
       "2                   0               0         0  ...    140.714286   \n",
       "3                   0               0         0  ...    138.500000   \n",
       "5                   1               0         0  ...    136.250000   \n",
       "6                   0               0         0  ...    144.133333   \n",
       "\n",
       "   Blood calcium    Chloride  Anion gap  Magnesium ion        PH  Bicarbonate  \\\n",
       "0       7.463636  109.166667  13.166667       2.618182  7.230000    21.166667   \n",
       "2       8.266667  105.857143  10.000000       2.157143  7.268000    30.571429   \n",
       "3       9.476923   92.071429  12.357143       1.942857  7.370000    38.571429   \n",
       "5       8.466667   96.750000  13.125000       1.771429  7.310000    30.500000   \n",
       "6       8.775000  106.666667  15.200000       1.875000  7.169231    26.800000   \n",
       "\n",
       "   Lactic acid       PCO2  EF  \n",
       "0        0.500  40.000000  55  \n",
       "2        0.500  71.500000  35  \n",
       "3        0.600  75.000000  55  \n",
       "5        0.600  65.500000  35  \n",
       "6        0.625  69.769231  55  \n",
       "\n",
       "[5 rows x 51 columns]"
      ]
     },
     "execution_count": 25,
     "metadata": {},
     "output_type": "execute_result"
    }
   ],
   "source": [
    "data_with_no_missing.head()"
   ]
  },
  {
   "cell_type": "markdown",
   "metadata": {},
   "source": [
    "## Checkpoint 3:"
   ]
  },
  {
   "cell_type": "code",
   "execution_count": 26,
   "metadata": {
    "scrolled": true
   },
   "outputs": [
    {
     "data": {
      "text/html": [
       "<div>\n",
       "<style scoped>\n",
       "    .dataframe tbody tr th:only-of-type {\n",
       "        vertical-align: middle;\n",
       "    }\n",
       "\n",
       "    .dataframe tbody tr th {\n",
       "        vertical-align: top;\n",
       "    }\n",
       "\n",
       "    .dataframe thead th {\n",
       "        text-align: right;\n",
       "    }\n",
       "</style>\n",
       "<table border=\"1\" class=\"dataframe\">\n",
       "  <thead>\n",
       "    <tr style=\"text-align: right;\">\n",
       "      <th></th>\n",
       "      <th>group</th>\n",
       "      <th>outcome</th>\n",
       "      <th>age</th>\n",
       "      <th>gendera</th>\n",
       "      <th>BMI</th>\n",
       "      <th>hypertensive</th>\n",
       "      <th>atrialfibrillation</th>\n",
       "      <th>CHD with no MI</th>\n",
       "      <th>diabetes</th>\n",
       "      <th>deficiencyanemias</th>\n",
       "      <th>...</th>\n",
       "      <th>Blood sodium</th>\n",
       "      <th>Blood calcium</th>\n",
       "      <th>Chloride</th>\n",
       "      <th>Anion gap</th>\n",
       "      <th>Magnesium ion</th>\n",
       "      <th>PH</th>\n",
       "      <th>Bicarbonate</th>\n",
       "      <th>Lactic acid</th>\n",
       "      <th>PCO2</th>\n",
       "      <th>EF</th>\n",
       "    </tr>\n",
       "  </thead>\n",
       "  <tbody>\n",
       "    <tr>\n",
       "      <th>0</th>\n",
       "      <td>1</td>\n",
       "      <td>0.0</td>\n",
       "      <td>72</td>\n",
       "      <td>1</td>\n",
       "      <td>37.588179</td>\n",
       "      <td>0</td>\n",
       "      <td>0</td>\n",
       "      <td>0</td>\n",
       "      <td>1</td>\n",
       "      <td>1</td>\n",
       "      <td>...</td>\n",
       "      <td>138.750000</td>\n",
       "      <td>7.463636</td>\n",
       "      <td>109.166667</td>\n",
       "      <td>13.166667</td>\n",
       "      <td>2.618182</td>\n",
       "      <td>7.230000</td>\n",
       "      <td>21.166667</td>\n",
       "      <td>0.500</td>\n",
       "      <td>40.000000</td>\n",
       "      <td>55</td>\n",
       "    </tr>\n",
       "    <tr>\n",
       "      <th>2</th>\n",
       "      <td>1</td>\n",
       "      <td>0.0</td>\n",
       "      <td>83</td>\n",
       "      <td>2</td>\n",
       "      <td>26.572634</td>\n",
       "      <td>0</td>\n",
       "      <td>0</td>\n",
       "      <td>0</td>\n",
       "      <td>0</td>\n",
       "      <td>1</td>\n",
       "      <td>...</td>\n",
       "      <td>140.714286</td>\n",
       "      <td>8.266667</td>\n",
       "      <td>105.857143</td>\n",
       "      <td>10.000000</td>\n",
       "      <td>2.157143</td>\n",
       "      <td>7.268000</td>\n",
       "      <td>30.571429</td>\n",
       "      <td>0.500</td>\n",
       "      <td>71.500000</td>\n",
       "      <td>35</td>\n",
       "    </tr>\n",
       "    <tr>\n",
       "      <th>3</th>\n",
       "      <td>1</td>\n",
       "      <td>0.0</td>\n",
       "      <td>43</td>\n",
       "      <td>2</td>\n",
       "      <td>83.264629</td>\n",
       "      <td>0</td>\n",
       "      <td>0</td>\n",
       "      <td>0</td>\n",
       "      <td>0</td>\n",
       "      <td>0</td>\n",
       "      <td>...</td>\n",
       "      <td>138.500000</td>\n",
       "      <td>9.476923</td>\n",
       "      <td>92.071429</td>\n",
       "      <td>12.357143</td>\n",
       "      <td>1.942857</td>\n",
       "      <td>7.370000</td>\n",
       "      <td>38.571429</td>\n",
       "      <td>0.600</td>\n",
       "      <td>75.000000</td>\n",
       "      <td>55</td>\n",
       "    </tr>\n",
       "    <tr>\n",
       "      <th>5</th>\n",
       "      <td>1</td>\n",
       "      <td>0.0</td>\n",
       "      <td>76</td>\n",
       "      <td>1</td>\n",
       "      <td>24.262293</td>\n",
       "      <td>1</td>\n",
       "      <td>1</td>\n",
       "      <td>0</td>\n",
       "      <td>0</td>\n",
       "      <td>1</td>\n",
       "      <td>...</td>\n",
       "      <td>136.250000</td>\n",
       "      <td>8.466667</td>\n",
       "      <td>96.750000</td>\n",
       "      <td>13.125000</td>\n",
       "      <td>1.771429</td>\n",
       "      <td>7.310000</td>\n",
       "      <td>30.500000</td>\n",
       "      <td>0.600</td>\n",
       "      <td>65.500000</td>\n",
       "      <td>35</td>\n",
       "    </tr>\n",
       "    <tr>\n",
       "      <th>6</th>\n",
       "      <td>1</td>\n",
       "      <td>0.0</td>\n",
       "      <td>72</td>\n",
       "      <td>1</td>\n",
       "      <td>39.667426</td>\n",
       "      <td>1</td>\n",
       "      <td>0</td>\n",
       "      <td>0</td>\n",
       "      <td>0</td>\n",
       "      <td>0</td>\n",
       "      <td>...</td>\n",
       "      <td>144.133333</td>\n",
       "      <td>8.775000</td>\n",
       "      <td>106.666667</td>\n",
       "      <td>15.200000</td>\n",
       "      <td>1.875000</td>\n",
       "      <td>7.169231</td>\n",
       "      <td>26.800000</td>\n",
       "      <td>0.625</td>\n",
       "      <td>69.769231</td>\n",
       "      <td>55</td>\n",
       "    </tr>\n",
       "  </tbody>\n",
       "</table>\n",
       "<p>5 rows × 50 columns</p>\n",
       "</div>"
      ],
      "text/plain": [
       "   group  outcome  age  gendera        BMI  hypertensive  atrialfibrillation  \\\n",
       "0      1      0.0   72        1  37.588179             0                   0   \n",
       "2      1      0.0   83        2  26.572634             0                   0   \n",
       "3      1      0.0   43        2  83.264629             0                   0   \n",
       "5      1      0.0   76        1  24.262293             1                   1   \n",
       "6      1      0.0   72        1  39.667426             1                   0   \n",
       "\n",
       "   CHD with no MI  diabetes  deficiencyanemias  ...  Blood sodium  \\\n",
       "0               0         1                  1  ...    138.750000   \n",
       "2               0         0                  1  ...    140.714286   \n",
       "3               0         0                  0  ...    138.500000   \n",
       "5               0         0                  1  ...    136.250000   \n",
       "6               0         0                  0  ...    144.133333   \n",
       "\n",
       "   Blood calcium    Chloride  Anion gap  Magnesium ion        PH  Bicarbonate  \\\n",
       "0       7.463636  109.166667  13.166667       2.618182  7.230000    21.166667   \n",
       "2       8.266667  105.857143  10.000000       2.157143  7.268000    30.571429   \n",
       "3       9.476923   92.071429  12.357143       1.942857  7.370000    38.571429   \n",
       "5       8.466667   96.750000  13.125000       1.771429  7.310000    30.500000   \n",
       "6       8.775000  106.666667  15.200000       1.875000  7.169231    26.800000   \n",
       "\n",
       "   Lactic acid       PCO2  EF  \n",
       "0        0.500  40.000000  55  \n",
       "2        0.500  71.500000  35  \n",
       "3        0.600  75.000000  55  \n",
       "5        0.600  65.500000  35  \n",
       "6        0.625  69.769231  55  \n",
       "\n",
       "[5 rows x 50 columns]"
      ]
     },
     "execution_count": 26,
     "metadata": {},
     "output_type": "execute_result"
    }
   ],
   "source": [
    "data_no_id = data_with_no_missing.drop(['ID'],axis=1)\n",
    "data_no_id.head()"
   ]
  },
  {
   "cell_type": "code",
   "execution_count": 27,
   "metadata": {},
   "outputs": [
    {
     "data": {
      "text/plain": [
       "Index(['group', 'outcome', 'age', 'gendera', 'BMI', 'hypertensive',\n",
       "       'atrialfibrillation', 'CHD with no MI', 'diabetes', 'deficiencyanemias',\n",
       "       'depression', 'Hyperlipemia', 'Renal failure', 'COPD', 'heart rate',\n",
       "       'Systolic blood pressure', 'Diastolic blood pressure',\n",
       "       'Respiratory rate', 'temperature', 'SP O2', 'Urine output',\n",
       "       'hematocrit', 'RBC', 'MCH', 'MCHC', 'MCV', 'RDW', 'Leucocyte',\n",
       "       'Platelets', 'Neutrophils', 'Basophils', 'Lymphocyte', 'PT', 'INR',\n",
       "       'NT-proBNP', 'Creatine kinase', 'Creatinine', 'Urea nitrogen',\n",
       "       'glucose', 'Blood potassium', 'Blood sodium', 'Blood calcium',\n",
       "       'Chloride', 'Anion gap', 'Magnesium ion', 'PH', 'Bicarbonate',\n",
       "       'Lactic acid', 'PCO2', 'EF'],\n",
       "      dtype='object')"
      ]
     },
     "execution_count": 27,
     "metadata": {},
     "output_type": "execute_result"
    }
   ],
   "source": [
    "data_no_id.columns"
   ]
  },
  {
   "cell_type": "markdown",
   "metadata": {},
   "source": [
    "## Creating Inputs and Targets:"
   ]
  },
  {
   "cell_type": "code",
   "execution_count": 28,
   "metadata": {},
   "outputs": [],
   "source": [
    "x = data_no_id.drop(['outcome'],axis=1)\n",
    "y = data_no_id['outcome']"
   ]
  },
  {
   "cell_type": "markdown",
   "metadata": {},
   "source": [
    "## Scaling:"
   ]
  },
  {
   "cell_type": "code",
   "execution_count": 29,
   "metadata": {},
   "outputs": [],
   "source": [
    "from sklearn.preprocessing import StandardScaler\n",
    "scaler = StandardScaler()\n",
    "scaler.fit(x)\n",
    "x_scaled = scaler.transform(x)\n",
    "targets = np.array(y)"
   ]
  },
  {
   "cell_type": "markdown",
   "metadata": {},
   "source": [
    "## Train Test Split:"
   ]
  },
  {
   "cell_type": "code",
   "execution_count": 31,
   "metadata": {},
   "outputs": [],
   "source": [
    "from sklearn.model_selection import train_test_split\n",
    "\n",
    "x_train,x_test,y_train,y_test = train_test_split(x_scaled,targets,test_size=0.20,random_state=42)"
   ]
  },
  {
   "cell_type": "markdown",
   "metadata": {},
   "source": [
    "## Model Building:"
   ]
  },
  {
   "cell_type": "code",
   "execution_count": 32,
   "metadata": {},
   "outputs": [
    {
     "data": {
      "text/plain": [
       "0.897891231964484"
      ]
     },
     "execution_count": 32,
     "metadata": {},
     "output_type": "execute_result"
    }
   ],
   "source": [
    "from sklearn.linear_model import LogisticRegression\n",
    "reg = LogisticRegression()\n",
    "reg.fit(x_train,y_train)\n",
    "reg.score(x_train,y_train)"
   ]
  },
  {
   "cell_type": "markdown",
   "metadata": {},
   "source": [
    "## Train Accuracy:"
   ]
  },
  {
   "cell_type": "code",
   "execution_count": 33,
   "metadata": {},
   "outputs": [
    {
     "name": "stdout",
     "output_type": "stream",
     "text": [
      "[[760  14]\n",
      " [ 78  49]]\n"
     ]
    },
    {
     "data": {
      "text/plain": [
       "0.897891231964484"
      ]
     },
     "execution_count": 33,
     "metadata": {},
     "output_type": "execute_result"
    }
   ],
   "source": [
    "y_hat=reg.predict(x_train)\n",
    "from sklearn.metrics import confusion_matrix, accuracy_score\n",
    "cm = confusion_matrix(y_train,y_hat)\n",
    "print(cm)\n",
    "accuracy_score(y_train,y_hat)"
   ]
  },
  {
   "cell_type": "markdown",
   "metadata": {},
   "source": [
    "## Testing:"
   ]
  },
  {
   "cell_type": "code",
   "execution_count": 34,
   "metadata": {},
   "outputs": [
    {
     "name": "stdout",
     "output_type": "stream",
     "text": [
      "[[192   5]\n",
      " [ 20   9]]\n"
     ]
    },
    {
     "data": {
      "text/plain": [
       "0.8893805309734514"
      ]
     },
     "execution_count": 34,
     "metadata": {},
     "output_type": "execute_result"
    }
   ],
   "source": [
    "y_pred = reg.predict(x_test)\n",
    "from sklearn.metrics import confusion_matrix, accuracy_score\n",
    "cm2 = confusion_matrix(y_test,y_pred)\n",
    "print(cm2)\n",
    "accuracy_score(y_test,y_pred)"
   ]
  },
  {
   "cell_type": "code",
   "execution_count": null,
   "metadata": {},
   "outputs": [],
   "source": []
  }
 ],
 "metadata": {
  "kernelspec": {
   "display_name": "Python 3 (ipykernel)",
   "language": "python",
   "name": "python3"
  },
  "language_info": {
   "codemirror_mode": {
    "name": "ipython",
    "version": 3
   },
   "file_extension": ".py",
   "mimetype": "text/x-python",
   "name": "python",
   "nbconvert_exporter": "python",
   "pygments_lexer": "ipython3",
   "version": "3.8.11"
  }
 },
 "nbformat": 4,
 "nbformat_minor": 4
}
